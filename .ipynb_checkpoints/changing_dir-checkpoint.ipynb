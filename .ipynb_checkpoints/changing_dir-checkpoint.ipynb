{
 "cells": [
  {
   "cell_type": "code",
   "execution_count": 43,
   "metadata": {
    "collapsed": true
   },
   "outputs": [
    {
     "name": "stdout",
     "output_type": "stream",
     "text": [
      " Volume in drive C has no label.\n",
      " Volume Serial Number is 3473-BAF3\n",
      "\n",
      " Directory of C:\\Users\\xsain\n",
      "\n",
      "07/07/2020  08:45 AM    <DIR>          .\n",
      "07/07/2020  08:45 AM    <DIR>          ..\n",
      "01/23/2020  10:15 PM    <DIR>          .anaconda\n",
      "07/01/2020  05:39 PM    <DIR>          .android\n",
      "03/30/2020  07:47 AM    <DIR>          .AndroidStudio3.6\n",
      "11/27/2019  01:39 PM                 0 .bashrc\n",
      "06/13/2020  05:41 AM            15,301 .bash_history\n",
      "12/11/2019  04:52 AM                99 .bash_profile\n",
      "05/01/2020  02:47 PM    <DIR>          .conda\n",
      "05/03/2020  04:18 PM                43 .condarc\n",
      "03/22/2020  08:27 PM    <DIR>          .config\n",
      "06/27/2020  09:14 AM    <DIR>          .docker\n",
      "07/06/2020  07:25 AM    <DIR>          .dotnet\n",
      "03/22/2020  08:28 PM    <DIR>          .eclipse\n",
      "03/23/2020  05:28 PM                16 .emulator_console_auth_token\n",
      "01/10/2020  01:00 AM                20 .erlang.cookie\n",
      "04/30/2020  01:54 PM               212 .gitconfig\n",
      "03/30/2020  08:11 AM    <DIR>          .gradle\n",
      "07/05/2020  05:43 AM    <DIR>          .ipynb_checkpoints\n",
      "12/01/2019  06:58 AM    <DIR>          .ipython\n",
      "06/23/2020  04:46 PM    <DIR>          .jupyter\n",
      "01/04/2020  10:07 AM    <DIR>          .matplotlib\n",
      "12/14/2019  01:32 PM    <DIR>          .openjfx\n",
      "03/28/2020  04:01 AM    <DIR>          .p2\n",
      "01/12/2020  03:43 PM                65 .pgAdmin4.1057243102.addr\n",
      "01/12/2020  03:43 PM                 0 .pgAdmin4.1057243102.log\n",
      "01/12/2020  03:43 PM             1,580 .pgAdmin4.startup.log\n",
      "04/08/2020  06:30 AM    <DIR>          .PyCharmCE2019.3\n",
      "06/12/2020  09:10 PM               291 .python_history\n",
      "04/23/2020  09:43 PM            39,401 .sambox.cache\n",
      "06/17/2020  05:05 AM    <DIR>          .spyder-py3\n",
      "03/22/2020  08:28 PM    <DIR>          .tooling\n",
      "06/27/2020  09:18 AM    <DIR>          .VirtualBox\n",
      "12/18/2019  11:43 PM    <DIR>          .vscode\n",
      "06/20/2020  09:57 PM    <DIR>          3D Objects\n",
      "07/01/2020  08:03 AM    <DIR>          Calibre Library\n",
      "07/01/2020  08:04 AM    <DIR>          Calibre Library deleted u2unp8\n",
      "06/20/2020  09:57 PM    <DIR>          Contacts\n",
      "07/07/2020  01:48 PM    <DIR>          Desktop\n",
      "07/06/2020  07:17 AM    <DIR>          Documents\n",
      "07/07/2020  02:36 PM    <DIR>          Downloads\n",
      "03/22/2020  06:53 PM    <DIR>          eclipse\n",
      "03/23/2020  07:40 AM    <DIR>          eclipse-workspace\n",
      "06/08/2020  07:51 AM    <DIR>          FastCopy\n",
      "06/20/2020  09:57 PM    <DIR>          Favorites\n",
      "02/02/2020  12:37 PM                80 go\n",
      "04/14/2020  04:38 PM    <DIR>          GolandProjects\n",
      "04/16/2020  02:47 PM    <DIR>          IdeaProjects\n",
      "06/20/2020  09:57 PM    <DIR>          Links\n",
      "07/01/2020  03:27 PM    <DIR>          Music\n",
      "07/07/2020  12:02 AM    <DIR>          OneDrive\n",
      "07/05/2020  05:55 PM    <DIR>          Pictures\n",
      "07/06/2020  03:45 AM    <DIR>          PycharmProjects\n",
      "11/26/2019  05:02 PM    <DIR>          Roaming\n",
      "06/20/2020  09:57 PM    <DIR>          Saved Games\n",
      "06/20/2020  09:57 PM    <DIR>          Searches\n",
      "02/19/2020  06:41 AM    <DIR>          Source\n",
      "07/01/2020  03:27 PM    <DIR>          Videos\n",
      "11/30/2019  07:06 AM    <DIR>          VirtualBox VMs\n",
      "12/13/2019  11:10 AM               206 _netrc\n",
      "              14 File(s)         57,314 bytes\n",
      "              46 Dir(s)  182,611,652,608 bytes free\n"
     ]
    }
   ],
   "source": [
    "!dir"
   ]
  },
  {
   "cell_type": "code",
   "execution_count": 42,
   "metadata": {},
   "outputs": [
    {
     "name": "stdout",
     "output_type": "stream",
     "text": [
      "C:\\Users\\xsain\n"
     ]
    }
   ],
   "source": [
    "%cd"
   ]
  },
  {
   "cell_type": "code",
   "execution_count": 44,
   "metadata": {},
   "outputs": [
    {
     "name": "stdout",
     "output_type": "stream",
     "text": [
      "c:\\myprojects\n"
     ]
    }
   ],
   "source": [
    "%cd c:/myprojects/"
   ]
  },
  {
   "cell_type": "code",
   "execution_count": 45,
   "metadata": {},
   "outputs": [],
   "source": [
    "import pandas as pd"
   ]
  },
  {
   "cell_type": "code",
   "execution_count": 46,
   "metadata": {},
   "outputs": [],
   "source": [
    "df= pd.read_csv(\"data_ex/fortune1000.csv\")"
   ]
  },
  {
   "cell_type": "code",
   "execution_count": 47,
   "metadata": {},
   "outputs": [
    {
     "data": {
      "text/html": [
       "<div>\n",
       "<style scoped>\n",
       "    .dataframe tbody tr th:only-of-type {\n",
       "        vertical-align: middle;\n",
       "    }\n",
       "\n",
       "    .dataframe tbody tr th {\n",
       "        vertical-align: top;\n",
       "    }\n",
       "\n",
       "    .dataframe thead th {\n",
       "        text-align: right;\n",
       "    }\n",
       "</style>\n",
       "<table border=\"1\" class=\"dataframe\">\n",
       "  <thead>\n",
       "    <tr style=\"text-align: right;\">\n",
       "      <th></th>\n",
       "      <th>Rank</th>\n",
       "      <th>Company</th>\n",
       "      <th>Sector</th>\n",
       "      <th>Industry</th>\n",
       "      <th>Location</th>\n",
       "      <th>Revenue</th>\n",
       "      <th>Profits</th>\n",
       "      <th>Employees</th>\n",
       "    </tr>\n",
       "  </thead>\n",
       "  <tbody>\n",
       "    <tr>\n",
       "      <th>0</th>\n",
       "      <td>1</td>\n",
       "      <td>Walmart</td>\n",
       "      <td>Retailing</td>\n",
       "      <td>General Merchandisers</td>\n",
       "      <td>Bentonville, AR</td>\n",
       "      <td>482130</td>\n",
       "      <td>14694</td>\n",
       "      <td>2300000</td>\n",
       "    </tr>\n",
       "    <tr>\n",
       "      <th>1</th>\n",
       "      <td>2</td>\n",
       "      <td>Exxon Mobil</td>\n",
       "      <td>Energy</td>\n",
       "      <td>Petroleum Refining</td>\n",
       "      <td>Irving, TX</td>\n",
       "      <td>246204</td>\n",
       "      <td>16150</td>\n",
       "      <td>75600</td>\n",
       "    </tr>\n",
       "    <tr>\n",
       "      <th>2</th>\n",
       "      <td>3</td>\n",
       "      <td>Apple</td>\n",
       "      <td>Technology</td>\n",
       "      <td>Computers, Office Equipment</td>\n",
       "      <td>Cupertino, CA</td>\n",
       "      <td>233715</td>\n",
       "      <td>53394</td>\n",
       "      <td>110000</td>\n",
       "    </tr>\n",
       "    <tr>\n",
       "      <th>3</th>\n",
       "      <td>4</td>\n",
       "      <td>Berkshire Hathaway</td>\n",
       "      <td>Financials</td>\n",
       "      <td>Insurance: Property and Casualty (Stock)</td>\n",
       "      <td>Omaha, NE</td>\n",
       "      <td>210821</td>\n",
       "      <td>24083</td>\n",
       "      <td>331000</td>\n",
       "    </tr>\n",
       "    <tr>\n",
       "      <th>4</th>\n",
       "      <td>5</td>\n",
       "      <td>McKesson</td>\n",
       "      <td>Health Care</td>\n",
       "      <td>Wholesalers: Health Care</td>\n",
       "      <td>San Francisco, CA</td>\n",
       "      <td>181241</td>\n",
       "      <td>1476</td>\n",
       "      <td>70400</td>\n",
       "    </tr>\n",
       "  </tbody>\n",
       "</table>\n",
       "</div>"
      ],
      "text/plain": [
       "   Rank             Company       Sector  \\\n",
       "0     1             Walmart    Retailing   \n",
       "1     2         Exxon Mobil       Energy   \n",
       "2     3               Apple   Technology   \n",
       "3     4  Berkshire Hathaway   Financials   \n",
       "4     5            McKesson  Health Care   \n",
       "\n",
       "                                   Industry           Location  Revenue  \\\n",
       "0                     General Merchandisers    Bentonville, AR   482130   \n",
       "1                        Petroleum Refining         Irving, TX   246204   \n",
       "2               Computers, Office Equipment      Cupertino, CA   233715   \n",
       "3  Insurance: Property and Casualty (Stock)          Omaha, NE   210821   \n",
       "4                  Wholesalers: Health Care  San Francisco, CA   181241   \n",
       "\n",
       "   Profits  Employees  \n",
       "0    14694    2300000  \n",
       "1    16150      75600  \n",
       "2    53394     110000  \n",
       "3    24083     331000  \n",
       "4     1476      70400  "
      ]
     },
     "execution_count": 47,
     "metadata": {},
     "output_type": "execute_result"
    }
   ],
   "source": [
    "df.head()"
   ]
  },
  {
   "cell_type": "code",
   "execution_count": 48,
   "metadata": {},
   "outputs": [],
   "source": [
    "wrtr= pd.ExcelWriter(\"test-03.xlsx\")"
   ]
  },
  {
   "cell_type": "code",
   "execution_count": 49,
   "metadata": {},
   "outputs": [
    {
     "data": {
      "text/plain": [
       "<pandas.io.excel._xlsxwriter._XlsxWriter at 0x21380cd9bc8>"
      ]
     },
     "execution_count": 49,
     "metadata": {},
     "output_type": "execute_result"
    }
   ],
   "source": [
    "wrtr"
   ]
  },
  {
   "cell_type": "code",
   "execution_count": null,
   "metadata": {},
   "outputs": [],
   "source": [
    "df.to_excel(wrtr, sheet_name= \"data\", )"
   ]
  }
 ],
 "metadata": {
  "kernelspec": {
   "display_name": "Python 3",
   "language": "python",
   "name": "python3"
  },
  "language_info": {
   "codemirror_mode": {
    "name": "ipython",
    "version": 3
   },
   "file_extension": ".py",
   "mimetype": "text/x-python",
   "name": "python",
   "nbconvert_exporter": "python",
   "pygments_lexer": "ipython3",
   "version": "3.7.7"
  }
 },
 "nbformat": 4,
 "nbformat_minor": 4
}
